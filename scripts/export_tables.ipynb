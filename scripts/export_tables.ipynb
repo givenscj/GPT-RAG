{
 "cells": [
  {
   "cell_type": "code",
   "execution_count": null,
   "id": "976a458f",
   "metadata": {},
   "outputs": [],
   "source": [
    "!pip install pyodbc"
   ]
  },
  {
   "cell_type": "code",
   "execution_count": 14,
   "id": "bb4bc955",
   "metadata": {},
   "outputs": [],
   "source": [
    "import pandas as pd\n",
    "import numpy as np\n",
    "import os\n",
    "import pyodbc\n",
    "import json"
   ]
  },
  {
   "cell_type": "code",
   "execution_count": null,
   "id": "60375a95",
   "metadata": {},
   "outputs": [],
   "source": [
    "SERVER = 'sql-467cky3m2uzbg.database.usgovcloudapi.net'\n",
    "DATABASE = 'TWTest'\n",
    "USERNAME = 'twaipoc'\n",
    "PASSWORD = 'Seattle123'\n",
    "connection_string = f'DRIVER={{ODBC Driver 18 for SQL Server}};SERVER={SERVER};DATABASE={DATABASE};UID={USERNAME};PWD={PASSWORD}'\n",
    "\n",
    "#https://learn.microsoft.com/en-us/sql/connect/odbc/download-odbc-driver-for-sql-server?view=sql-server-ver16"
   ]
  },
  {
   "cell_type": "code",
   "execution_count": 9,
   "id": "e70e669b",
   "metadata": {},
   "outputs": [],
   "source": [
    "# Create connection to database\n",
    "conn = pyodbc.connect(connection_string)"
   ]
  },
  {
   "cell_type": "code",
   "execution_count": 20,
   "id": "916bff4e",
   "metadata": {},
   "outputs": [],
   "source": [
    "tables = []\n",
    "\n",
    "with conn:\n",
    "    cursor = conn.cursor()\n",
    "    for row in cursor.tables():\n",
    "        type = row.table_type\n",
    "        name = row.table_name\n",
    "\n",
    "        if type != 'TABLE':\n",
    "            continue\n",
    "\n",
    "        tables.append(name)\n",
    "\n",
    "cursor.close()"
   ]
  },
  {
   "cell_type": "code",
   "execution_count": 23,
   "id": "bde3c305",
   "metadata": {},
   "outputs": [],
   "source": [
    "os.makedirs('tables', exist_ok=True)"
   ]
  },
  {
   "cell_type": "code",
   "execution_count": null,
   "id": "f30d3ad0",
   "metadata": {},
   "outputs": [
    {
     "ename": "",
     "evalue": "",
     "output_type": "error",
     "traceback": [
      "\u001b[1;31mThe Kernel crashed while executing code in the current cell or a previous cell. \n",
      "\u001b[1;31mPlease review the code in the cell(s) to identify a possible cause of the failure. \n",
      "\u001b[1;31mClick <a href='https://aka.ms/vscodeJupyterKernelCrash'>here</a> for more info. \n",
      "\u001b[1;31mView Jupyter <a href='command:jupyter.viewOutput'>log</a> for further details."
     ]
    }
   ],
   "source": [
    "# Print the table types and names\n",
    "with conn:\n",
    "    for name in tables:\n",
    "        cursor = conn.cursor()\n",
    "\n",
    "        columns = []\n",
    "\n",
    "        for col in cursor.columns(table=name):\n",
    "            col_name = col.column_name\n",
    "            col_type = col.type_name\n",
    "            columns.append({\n",
    "                'name' : col_name,\n",
    "                'description' : col_name})\n",
    "\n",
    "        jTable = {\n",
    "            'table': name,\n",
    "            'datasource' : SERVER,\n",
    "            'description' : name,\n",
    "            'columns': columns\n",
    "        }\n",
    "\n",
    "        #save to json file\n",
    "        with open(f'tables/{name}.json', 'w') as f:\n",
    "            f.write(json.dumps(jTable))\n",
    "cursor.close()"
   ]
  },
  {
   "cell_type": "code",
   "execution_count": null,
   "id": "a0c633e2",
   "metadata": {},
   "outputs": [],
   "source": [
    "conn.close()"
   ]
  }
 ],
 "metadata": {
  "kernelspec": {
   "display_name": "Python 3",
   "language": "python",
   "name": "python3"
  },
  "language_info": {
   "codemirror_mode": {
    "name": "ipython",
    "version": 3
   },
   "file_extension": ".py",
   "mimetype": "text/x-python",
   "name": "python",
   "nbconvert_exporter": "python",
   "pygments_lexer": "ipython3",
   "version": "3.11.9"
  }
 },
 "nbformat": 4,
 "nbformat_minor": 5
}
